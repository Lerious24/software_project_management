{
  "nbformat": 4,
  "nbformat_minor": 0,
  "metadata": {
    "colab": {
      "provenance": []
    },
    "kernelspec": {
      "name": "python3",
      "display_name": "Python 3"
    },
    "language_info": {
      "name": "python"
    }
  },
  "cells": [
    {
      "cell_type": "markdown",
      "source": [
        "**YOLOV5**\n",
        "\n",
        "\n",
        "---\n",
        "\n",
        "1. Preparations\n",
        "2. Preprocess data\n",
        "3. Model training\n",
        "4. Pretrained model inference and evaluation\n",
        "5. Convert to TFLite model\n",
        "6. Tflite model evaluation"
      ],
      "metadata": {
        "id": "JXJX2Pum1_ri"
      }
    },
    {
      "cell_type": "code",
      "source": [
        "import os\n",
        "import glob\n",
        "import PIL\n",
        "import shutil\n",
        "import tqdm\n",
        "import pandas as pd\n",
        "import numpy as np\n",
        "import IPython"
      ],
      "metadata": {
        "id": "ifE_RKFl1sWN"
      },
      "execution_count": 1,
      "outputs": []
    },
    {
      "cell_type": "markdown",
      "source": [
        "###1. Preparations"
      ],
      "metadata": {
        "id": "8swzJlNQ2YMz"
      }
    },
    {
      "cell_type": "code",
      "execution_count": null,
      "metadata": {
        "id": "luqpM4731jvp"
      },
      "outputs": [],
      "source": [
        "!pip uninstall opencv_python_headless\n",
        "!pip install opencv-python-headless==4.5.4.60\n",
        "!pip install fiftyone"
      ]
    },
    {
      "cell_type": "code",
      "source": [
        "import fiftyone as fo\n",
        "import fiftyone.zoo as foz"
      ],
      "metadata": {
        "id": "usiPF91E1pfc"
      },
      "execution_count": null,
      "outputs": []
    },
    {
      "cell_type": "markdown",
      "source": [
        "COCO-2017"
      ],
      "metadata": {
        "id": "BswpA19O2ie6"
      }
    },
    {
      "cell_type": "code",
      "source": [
        "coco_80classes = ['person', 'bicycle', 'car', 'motorcycle', 'airplane', 'bus', 'train', 'truck', 'boat', 'traffic light',\n",
        "        'fire hydrant', 'stop sign', 'parking meter', 'bench', 'bird', 'cat', 'dog', 'horse', 'sheep', 'cow',\n",
        "        'elephant', 'bear', 'zebra', 'giraffe', 'backpack', 'umbrella', 'handbag', 'tie', 'suitcase', 'frisbee',\n",
        "        'skis', 'snowboard', 'sports ball', 'kite', 'baseball bat', 'baseball glove', 'skateboard', 'surfboard',\n",
        "        'tennis racket', 'bottle', 'wine glass', 'cup', 'fork', 'knife', 'spoon', 'bowl', 'banana', 'apple',\n",
        "        'sandwich', 'orange', 'broccoli', 'carrot', 'hot dog', 'pizza', 'donut', 'cake', 'chair', 'couch',\n",
        "        'potted plant', 'bed', 'dining table', 'toilet', 'tv', 'laptop', 'mouse', 'remote', 'keyboard', 'cell phone',\n",
        "        'microwave', 'oven', 'toaster', 'sink', 'refrigerator', 'book', 'clock', 'vase', 'scissors', 'teddy bear',\n",
        "        'hair drier', 'toothbrush']"
      ],
      "metadata": {
        "id": "yxbQjTP-1rGj"
      },
      "execution_count": null,
      "outputs": []
    },
    {
      "cell_type": "code",
      "source": [
        "classes = [\"dog\",\"cat\", \"person\"]\n",
        "\n",
        "coco_train_dataset = foz.load_zoo_dataset(\n",
        "    \"coco-2017\",\n",
        "    splits=[\"train\"],\n",
        "    label_types=[\"detections\"],\n",
        "    classes=classes,\n",
        "    only_matching=True,\n",
        ")\n",
        "\n",
        "coco_val_dataset = foz.load_zoo_dataset(\n",
        "    \"coco-2017\",\n",
        "    splits=[\"validation\"],\n",
        "    label_types=[\"detections\"],\n",
        "    classes=classes,\n",
        "    only_matching=True,\n",
        ")\n",
        "\n",
        "coco_train_dataset.export(\n",
        "   export_dir=\"/content/data\",\n",
        "   dataset_type = fo.types.dataset_types.YOLOv5Dataset,\n",
        "   split='train',\n",
        "   classes=coco_80classes\n",
        ")\n",
        "\n",
        "coco_val_dataset.export(\n",
        "   export_dir=\"/content/data\",\n",
        "   dataset_type = fo.types.dataset_types.YOLOv5Dataset,\n",
        "   split='val',\n",
        "   classes=coco_80classes\n",
        ")"
      ],
      "metadata": {
        "id": "ZHadmVIV2fsQ"
      },
      "execution_count": null,
      "outputs": []
    },
    {
      "cell_type": "code",
      "source": [
        "other_classes = ['person', 'horse', 'sheep', 'cow', 'elephant', 'bear', 'zebra', \\\n",
        "                 'giraffe', 'motorcycle', 'wine glass', 'chair', 'laptop', 'book', 'teddy bear']\n",
        "\n",
        "other_coco_train_dataset = foz.load_zoo_dataset(\n",
        "    \"coco-2017\",\n",
        "    splits=[\"train\"],\n",
        "    label_types=[\"detections\"],\n",
        "    classes=other_classes,\n",
        "    only_matching=True,\n",
        "    max_samples=30000, # 20000\n",
        ")\n",
        "\n",
        "other_coco_val_dataset = foz.load_zoo_dataset(\n",
        "    \"coco-2017\",\n",
        "    splits=[\"validation\"],\n",
        "    label_types=[\"detections\"],\n",
        "    classes=other_classes,\n",
        "    only_matching=True,\n",
        "    max_samples=1000,\n",
        ")\n",
        "\n",
        "other_coco_train_dataset.export(\n",
        "   export_dir=\"/content/data\",\n",
        "   dataset_type = fo.types.dataset_types.YOLOv5Dataset,\n",
        "   split='train',\n",
        "   classes=coco_80classes\n",
        ")\n",
        "\n",
        "other_coco_val_dataset.export(\n",
        "   export_dir=\"/content/data\",\n",
        "   dataset_type = fo.types.dataset_types.YOLOv5Dataset,\n",
        "   split='val',\n",
        "   classes=coco_80classes\n",
        ")"
      ],
      "metadata": {
        "id": "cnbK8nR_2lb-"
      },
      "execution_count": null,
      "outputs": []
    },
    {
      "cell_type": "markdown",
      "source": [
        "Open Images v6"
      ],
      "metadata": {
        "id": "wtq0wDox2n_g"
      }
    },
    {
      "cell_type": "code",
      "source": [
        "oiv6_train_dataset = foz.load_zoo_dataset(\n",
        "    \"open-images-v6\",\n",
        "    splits=[\"train\"],\n",
        "    label_types=[\"detections\"],\n",
        "    classes=[\"Dog\",\"Cat\", \"Person\"],\n",
        "    only_matching=True,\n",
        ")\n",
        "\n",
        "oiv6_val_dataset = foz.load_zoo_dataset(\n",
        "    \"open-images-v6\",\n",
        "    splits=[\"validation\"],\n",
        "    label_types=[\"detections\"],\n",
        "    classes=[\"Dog\",\"Cat\", \"Person\"],\n",
        "    only_matching=True,\n",
        ")\n",
        "\n",
        "oiv6_train_dataset.export(\n",
        "   export_dir=\"/content/data\",\n",
        "   dataset_type = fo.types.dataset_types.YOLOv5Dataset,\n",
        "   split='train',\n",
        "   classes=[label.capitalize() for label in coco_80classes]\n",
        ")\n",
        "\n",
        "oiv6_val_dataset.export(\n",
        "   export_dir=\"/content/data\",\n",
        "   dataset_type = fo.types.dataset_types.YOLOv5Dataset,\n",
        "   split='val',\n",
        "   classes=[label.capitalize() for label in coco_80classes]\n",
        ")"
      ],
      "metadata": {
        "id": "HtTF7BUp2pw6"
      },
      "execution_count": null,
      "outputs": []
    },
    {
      "cell_type": "code",
      "source": [
        "other_classes = ['Bear', 'Book', 'Chair', 'Elephant', 'Giraffe', 'Horse', 'Laptop', \\\n",
        "                 'Motorcycle', 'Person', 'Sheep', 'Teddy bear', 'Wine glass', 'Zebra']\n",
        "\n",
        "other_oiv6_train_dataset = foz.load_zoo_dataset(\n",
        "    \"open-images-v6\",\n",
        "    splits=[\"train\"],\n",
        "    label_types=[\"detections\"],\n",
        "    classes=other_classes,\n",
        "    only_matching=True,\n",
        "    max_samples=30000, #20000\n",
        ")\n",
        "\n",
        "other_oiv6_val_dataset = foz.load_zoo_dataset(\n",
        "    \"open-images-v6\",\n",
        "    splits=[\"validation\"],\n",
        "    label_types=[\"detections\"],\n",
        "    classes=other_classes,\n",
        "    only_matching=True,\n",
        "    max_samples=2000,\n",
        ")\n",
        "\n",
        "other_oiv6_train_dataset.export(\n",
        "   export_dir=\"/content/data\",\n",
        "   dataset_type = fo.types.dataset_types.YOLOv5Dataset,\n",
        "   split='train',\n",
        "   classes=[label.capitalize() for label in coco_80classes]\n",
        ")\n",
        "\n",
        "other_oiv6_val_dataset.export(\n",
        "   export_dir=\"/content/data\",\n",
        "   dataset_type = fo.types.dataset_types.YOLOv5Dataset,\n",
        "   split='val',\n",
        "   classes=[label.capitalize() for label in coco_80classes]\n",
        ")"
      ],
      "metadata": {
        "id": "liYxbNyI29Kw"
      },
      "execution_count": null,
      "outputs": []
    },
    {
      "cell_type": "code",
      "source": [
        "label_paths = glob.glob('/content/data/labels/train/*.txt')\n",
        "print(len(label_paths))\n",
        "instances_dict = {key: 0 for key in coco_80classes}\n",
        "\n",
        "for label_path in label_paths:\n",
        "    with open(label_path) as f:\n",
        "        org_lines = f.readlines()\n",
        "        org_lines = [line.rstrip() for line in org_lines]\n",
        "    for line in org_lines:\n",
        "        int_label = int(line.split(' ')[0])\n",
        "        instances_dict[coco_80classes[int_label]] += 1\n",
        "print(instances_dict)"
      ],
      "metadata": {
        "id": "jBGFHRHu3AB_"
      },
      "execution_count": null,
      "outputs": []
    },
    {
      "cell_type": "markdown",
      "source": [
        "Generate data person with pet from data fiftyone"
      ],
      "metadata": {
        "id": "tZvIfPz_5rDB"
      }
    },
    {
      "cell_type": "code",
      "source": [
        "# unzip file person_pet.zip\n",
        "!unzip person_pet.zip"
      ],
      "metadata": {
        "id": "xdhKR6QrjBLo"
      },
      "execution_count": null,
      "outputs": []
    },
    {
      "cell_type": "code",
      "source": [
        "cnt = 0\n",
        "\n",
        "# Split person_pet to train and validation\n",
        "for filename in os.listdir('person_pet/images/'):\n",
        "  img_path = 'person_pet/images/' + filename\n",
        "  label_path = img_path.replace('images', 'labels').replace('jpg', 'txt')\n",
        "  if cnt <= 11000:\n",
        "    path_save_img = 'data/images/train'\n",
        "    path_save_label = 'data/labels/train'\n",
        "  else:\n",
        "    path_save_img = 'data/images/val'\n",
        "    path_save_label = 'data/labels/val'\n",
        "  shutil.copy(img_path, path_save_img)\n",
        "  shutil.copy(label_path, path_save_label)\n",
        "  cnt += 1"
      ],
      "metadata": {
        "id": "M3fxog2k-vp1"
      },
      "execution_count": null,
      "outputs": []
    },
    {
      "cell_type": "markdown",
      "source": [
        "Custom dataset"
      ],
      "metadata": {
        "id": "X1ke47Lm3Df-"
      }
    },
    {
      "cell_type": "code",
      "source": [
        "!mkdir /content/data/custom_dataset\n",
        "\n",
        "!gdown --id 1X4fBvBlpHMWDoEXHeZBxbjo9Cvu1K40M -O /content/data/custom_dataset/cat_data_7.zip\n",
        "!gdown --id 1tkhSVoNbRM8W_P7zJgaTXoCGoi7SrRx1 -O /content/data/custom_dataset/cat_data_8.zip\n",
        "!gdown --id 1MI8QF49tiUBhgwotdNbeNH5miwNv_iOx -O /content/data/custom_dataset/cat_data_9.zip\n",
        "!gdown --id 1U3CfS7EqfGToDmjkYjeT9g3p-E6fUnBk -O /content/data/custom_dataset/dog_data_1.zip\n",
        "!gdown --id 1TS4FvrYVj7_SjnVA_sZ8rsfONYs_XguE -O /content/data/custom_dataset/dog_data_2.zip\n",
        "!gdown --id 16IkfdQx0PlWLqGV8Cx9cEbR-mUllnJvN -O /content/data/custom_dataset/dog_data_3.zip\n",
        "!gdown --id 1nvt8n6ZYvMq0Cs0qs08IStl-O29ue7xn -O /content/data/custom_dataset/dog_data_4.zip\n",
        "!gdown --id 1yAu1HerU5KI6GJwhm0rdRrGWk8Qv-NKp -O /content/data/custom_dataset/dog_data_5.zip\n",
        "!gdown --id 1fZ8VNafJspEp38XxpR1DuhkMeLvCFrXj -O /content/data/custom_dataset/dog_data_6.zip\n",
        "\n",
        "!unzip -qq /content/data/custom_dataset/cat_data_7.zip -d /content/data/custom_dataset/\n",
        "!unzip -qq /content/data/custom_dataset/cat_data_8.zip -d /content/data/custom_dataset/\n",
        "!unzip -qq /content/data/custom_dataset/cat_data_9.zip -d /content/data/custom_dataset/\n",
        "!unzip -qq /content/data/custom_dataset/dog_data_1.zip -d /content/data/custom_dataset/\n",
        "!unzip -qq /content/data/custom_dataset/dog_data_2.zip -d /content/data/custom_dataset/\n",
        "!unzip -qq /content/data/custom_dataset/dog_data_3.zip -d /content/data/custom_dataset/\n",
        "!unzip -qq /content/data/custom_dataset/dog_data_4.zip -d /content/data/custom_dataset/\n",
        "!unzip -qq /content/data/custom_dataset/dog_data_5.zip -d /content/data/custom_dataset/\n",
        "!unzip -qq /content/data/custom_dataset/dog_data_6.zip -d /content/data/custom_dataset/\n",
        "\n",
        "!rm /content/data/custom_dataset/*.zip"
      ],
      "metadata": {
        "id": "uSJ2oIzk3CZP"
      },
      "execution_count": null,
      "outputs": []
    },
    {
      "cell_type": "markdown",
      "source": [
        "###2. Preprocess data"
      ],
      "metadata": {
        "id": "sG9EsBCv3Hi2"
      }
    },
    {
      "cell_type": "markdown",
      "source": [
        "**Custom dataset**"
      ],
      "metadata": {
        "id": "jn858yth3LtQ"
      }
    },
    {
      "cell_type": "code",
      "source": [
        "def customdataset_edit_label(image_paths, target_dir):\n",
        "    for image_path in tqdm.tqdm(image_paths):\n",
        "        txt_path = image_path.replace('img_data', 'label_data') + '.txt'\n",
        "        width, height = PIL.Image.open(image_path).size\n",
        "\n",
        "        # read file txt\n",
        "        with open(txt_path) as f:\n",
        "            org_lines = f.readlines()\n",
        "            org_lines = [line.rstrip() for line in org_lines]\n",
        "\n",
        "        # edit file txt\n",
        "        new_lines = []\n",
        "        for line in org_lines:\n",
        "            if \"dog\" in line:\n",
        "                cls = \"16\"\n",
        "            elif \"cat\" in line:\n",
        "                cls = \"15\"\n",
        "            else:\n",
        "                continue\n",
        "            \n",
        "            old_x = int(line.split(\",\")[0].split(\" \")[1])\n",
        "            old_y = int(line.split(\",\")[1])\n",
        "            old_w = int(line.split(\",\")[2])\n",
        "            old_h = int(line.split(\",\")[3])\n",
        "            new_x = ((old_x + old_w/2)/width)\n",
        "            new_y = ((old_y + old_h/2)/height)\n",
        "            new_w = (old_w/width)\n",
        "            new_h = (old_h/height)\n",
        "\n",
        "            new_line = str(cls) + \" \"+str(new_x)+ \" \"+str(new_y)+ \" \"+str(new_w)+ \" \"+str(new_h)\n",
        "            new_lines.append(new_line)\n",
        "\n",
        "        # write to new file txt\n",
        "        txt_name = txt_path.split('/')[-1].replace('.jpg', '')\n",
        "        new_txt_path = os.path.join(target_dir, txt_name)\n",
        "        print(f'write to {new_txt_path}')\n",
        "        with open(new_txt_path, \"w\") as fobj:\n",
        "            fobj.write(\"\\n\".join(new_lines))"
      ],
      "metadata": {
        "id": "gixBHi9O3GMg"
      },
      "execution_count": null,
      "outputs": []
    },
    {
      "cell_type": "code",
      "source": [
        "custom_file_paths = glob.glob('/content/data/custom_dataset/*/*.jpg')\n",
        "print(len(custom_file_paths))\n",
        "print(custom_file_paths[:2])\n",
        "\n",
        "# split VAL_SET\n",
        "import random\n",
        "random.seed(2021)\n",
        "\n",
        "random.shuffle(custom_file_paths)\n",
        "TRAIN_CUSTOM_FILEPATHS = custom_file_paths[:50000]\n",
        "VAL_CUSTOM_FILEPATHS = custom_file_paths[50000:]\n",
        "\n",
        "print(len(TRAIN_CUSTOM_FILEPATHS), len(VAL_CUSTOM_FILEPATHS))"
      ],
      "metadata": {
        "id": "r4DB_GNx3SpV"
      },
      "execution_count": null,
      "outputs": []
    },
    {
      "cell_type": "code",
      "source": [
        "customdataset_edit_label(TRAIN_CUSTOM_FILEPATHS, '/content/data/labels/train')\n",
        "customdataset_edit_label(VAL_CUSTOM_FILEPATHS, '/content/data/labels/val')"
      ],
      "metadata": {
        "id": "ygAU3su23T1r"
      },
      "execution_count": null,
      "outputs": []
    },
    {
      "cell_type": "code",
      "source": [
        "for file_path in tqdm.tqdm(TRAIN_CUSTOM_FILEPATHS):\n",
        "    file_name = file_path.split('/')[-1]\n",
        "    destination = os.path.join('/content/data/images/train', file_name)\n",
        "    # move only files\n",
        "    if os.path.isfile(file_path):\n",
        "        shutil.move(file_path, destination)\n",
        "\n",
        "for file_path in tqdm.tqdm(VAL_CUSTOM_FILEPATHS):\n",
        "    file_name = file_path.split('/')[-1]\n",
        "    destination = os.path.join('/content/data/images/val', file_name)\n",
        "    # move only files\n",
        "    if os.path.isfile(file_path):\n",
        "        shutil.move(file_path, destination)"
      ],
      "metadata": {
        "id": "hbEc9qbE3Xnl"
      },
      "execution_count": null,
      "outputs": []
    },
    {
      "cell_type": "code",
      "source": [
        "print(len(os.listdir('/content/data/labels/train')))\n",
        "print(len(os.listdir('/content/data/labels/val')))\n",
        "print(len(os.listdir('/content/data/images/train')))\n",
        "print(len(os.listdir('/content/data/images/val')))"
      ],
      "metadata": {
        "id": "V5aE-GML3Y3q"
      },
      "execution_count": null,
      "outputs": []
    },
    {
      "cell_type": "markdown",
      "source": [
        "###**3. Model training**"
      ],
      "metadata": {
        "id": "3ddsnA2C3fkp"
      }
    },
    {
      "cell_type": "markdown",
      "source": [
        "Download the code in github"
      ],
      "metadata": {
        "id": "sDUDth2y3k3N"
      }
    },
    {
      "cell_type": "code",
      "source": [
        "# clone YOLOv5\n",
        "if not os.path.isdir(\"yolov5\"):\n",
        "    !git clone https://github.com/ultralytics/yolov5  # clone repo\n",
        "    %cd yolov5\n",
        "    %pip install -qr requirements.txt # install dependencies\n",
        "else:\n",
        "    %cd yolov5\n",
        "    \n",
        "import torch\n",
        "import os\n",
        "from IPython.display import Image, clear_output  # to display images\n",
        "\n",
        "print(f\"Setup complete. Using torch {torch.__version__} ({torch.cuda.get_device_properties(0).name if torch.cuda.is_available() else 'CPU'})\")"
      ],
      "metadata": {
        "id": "GbF_kXc13g9B"
      },
      "execution_count": null,
      "outputs": []
    },
    {
      "cell_type": "markdown",
      "source": [
        "**Create the config YAML file**"
      ],
      "metadata": {
        "id": "qB3Z1GLQ3pkx"
      }
    },
    {
      "cell_type": "code",
      "source": [
        "CONFIG_DIR = '/content/yolov5/data'\n",
        "CONFIG_FILE = os.path.join(CONFIG_DIR, \"pet.yaml\")\n",
        "if not os.path.exists(CONFIG_DIR):\n",
        "    os.mkdir(CONFIG_DIR)\n",
        "\n",
        "config_text = \\\n",
        "\"\"\"path: /content/data/images\n",
        "train: train\n",
        "val: val\n",
        "test:\n",
        "\n",
        "nc: 80  # number of classes\n",
        "names: ['person', 'bicycle', 'car', 'motorcycle', 'airplane', 'bus', 'train', 'truck', 'boat', 'traffic light',\n",
        "        'fire hydrant', 'stop sign', 'parking meter', 'bench', 'bird', 'cat', 'dog', 'horse', 'sheep', 'cow',\n",
        "        'elephant', 'bear', 'zebra', 'giraffe', 'backpack', 'umbrella', 'handbag', 'tie', 'suitcase', 'frisbee',\n",
        "        'skis', 'snowboard', 'sports ball', 'kite', 'baseball bat', 'baseball glove', 'skateboard', 'surfboard',\n",
        "        'tennis racket', 'bottle', 'wine glass', 'cup', 'fork', 'knife', 'spoon', 'bowl', 'banana', 'apple',\n",
        "        'sandwich', 'orange', 'broccoli', 'carrot', 'hot dog', 'pizza', 'donut', 'cake', 'chair', 'couch',\n",
        "        'potted plant', 'bed', 'dining table', 'toilet', 'tv', 'laptop', 'mouse', 'remote', 'keyboard', 'cell phone',\n",
        "        'microwave', 'oven', 'toaster', 'sink', 'refrigerator', 'book', 'clock', 'vase', 'scissors', 'teddy bear',\n",
        "        'hair drier', 'toothbrush']  # class names\n",
        "\"\"\"\n",
        "\n",
        "with open(CONFIG_FILE, \"w\") as fwrite:\n",
        "    fwrite.write(config_text)"
      ],
      "metadata": {
        "id": "-QAUf84f3nxB"
      },
      "execution_count": null,
      "outputs": []
    },
    {
      "cell_type": "code",
      "source": [
        "!python train.py \\\n",
        "    --img 320 \\\n",
        "    --weights /content/last.pt \\\n",
        "    --epochs 100 \\\n",
        "    --data pet.yaml \\\n",
        "    --save-period 30 \\\n",
        "    --project model_new \\\n",
        "    --name exp \\\n",
        "    --exist-ok"
      ],
      "metadata": {
        "id": "toZZpO_53u-W"
      },
      "execution_count": null,
      "outputs": []
    },
    {
      "cell_type": "markdown",
      "source": [
        "##Inference"
      ],
      "metadata": {
        "id": "yp2ClYno4WIP"
      }
    },
    {
      "cell_type": "code",
      "source": [
        "!python3 yolov5/detect.py \\\n",
        "    --weights /content/best.pt \\\n",
        "    --img 320 \\\n",
        "    --source \"/content/test_pet_detection/*.jpg\"\\\n",
        "    --conf-thres 0.3 \\\n",
        "    --save-crop \\\n",
        "    --classes 15 16"
      ],
      "metadata": {
        "id": "gJI2GXge4Zab"
      },
      "execution_count": null,
      "outputs": []
    },
    {
      "cell_type": "markdown",
      "source": [
        "**Convert to TFLite model**"
      ],
      "metadata": {
        "id": "EcPN3L8f4P3e"
      }
    },
    {
      "cell_type": "code",
      "source": [
        "!python export.py \\\n",
        "  --weights /content/weights/best.pt\\\n",
        "  --include tflite \\\n",
        "  --data /content/yolov5/data/pet.yaml \\\n",
        "  --imgsz 320"
      ],
      "metadata": {
        "id": "zkG5NyK43uDL"
      },
      "execution_count": null,
      "outputs": []
    }
  ]
}